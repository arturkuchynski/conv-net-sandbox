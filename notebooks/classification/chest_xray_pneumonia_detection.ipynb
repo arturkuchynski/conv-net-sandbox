{
 "cells": [
  {
   "cell_type": "code",
   "execution_count": null,
   "metadata": {},
   "outputs": [],
   "source": [
    "%pwd\n",
    "%cd ../.."
   ]
  },
  {
   "cell_type": "code",
   "execution_count": null,
   "metadata": {},
   "outputs": [],
   "source": [
    "import argparse\n",
    "import sys\n",
    "from datetime import datetime\n",
    "from pathlib import Path\n",
    "\n",
    "import numpy as np\n",
    "import tensorflow as tf\n",
    "import tensorflow_addons as tfa\n",
    "import tensorflow.keras.backend as K\n",
    "from dotenv import load_dotenv, find_dotenv\n",
    "from tensorflow.keras.callbacks import TensorBoard, ModelCheckpoint, ReduceLROnPlateau, EarlyStopping, TerminateOnNaN\n",
    "from tensorflow.keras.optimizers import Adam\n",
    "from tensorflow.python.keras.preprocessing.image import ImageDataGenerator\n",
    "\n",
    "from models import build_simple_conv_net"
   ]
  },
  {
   "cell_type": "code",
   "execution_count": null,
   "metadata": {},
   "outputs": [],
   "source": [
    "BASE_DIR = Path().resolve()\n",
    "LOGS_DIR = BASE_DIR.joinpath('logs', f'{datetime.now().strftime(\"%m-%d-%Y_%H:%M:%S\")}')\n",
    "\n",
    "WEIGHTS_OUTPUT_PATH = LOGS_DIR.joinpath('ep{epoch:03d}-loss{loss:.4f}-val_loss{val_loss:.4f}.h5')\n",
    "MODEL_OUTPUT_PATH = LOGS_DIR.joinpath('trained_model.h5')\n",
    "\n",
    "ENV_FILE = find_dotenv()\n",
    "if ENV_FILE:\n",
    "    load_dotenv(ENV_FILE)"
   ]
  },
  {
   "cell_type": "code",
   "execution_count": null,
   "metadata": {},
   "outputs": [],
   "source": [
    "input_shape = np.asarray([300, 300, 3])\n",
    "checkpoint = ModelCheckpoint(str(WEIGHTS_OUTPUT_PATH),\n",
    "                             monitor='val_loss',\n",
    "                             verbose=1,\n",
    "                             save_weights_only=True,\n",
    "                             save_best_only=True)\n",
    "logging = TensorBoard(log_dir=str(LOGS_DIR))\n",
    "early_stopping = EarlyStopping(monitor='val_loss', min_delta=0, patience=50, verbose=1)\n",
    "terminate_on_nan = TerminateOnNaN()\n",
    "callbacks = [logging, checkpoint, early_stopping, terminate_on_nan]\n",
    "\n",
    "optimizer = Adam()\n",
    "model = build_simple_conv_net(input_shape)\n",
    "model.compile(loss='binary_crossentropy', optimizer=optimizer, metrics=['accuracy', tfa.metrics.F1Score(num_classes=2,average=\"micro\")])\n",
    "epochs = 100"
   ]
  },
  {
   "cell_type": "code",
   "execution_count": null,
   "metadata": {},
   "outputs": [],
   "source": [
    "train_datagen = ImageDataGenerator(rescale=1 / 255)\n",
    "val_datagen = ImageDataGenerator(rescale=1 / 255)\n",
    "\n",
    "train_generator = train_datagen.flow_from_directory(\n",
    "    '/var/data/Downloads/archive/chest_xray/chest_xray/train/',\n",
    "    target_size=input_shape[:2],\n",
    "    batch_size=16,\n",
    "    class_mode='binary'\n",
    ")\n",
    "\n",
    "validation_generator = val_datagen.flow_from_directory(\n",
    "    '/var/data/Downloads/archive/chest_xray/chest_xray/val/',\n",
    "    target_size=input_shape[:2],\n",
    "    batch_size=16,\n",
    "    class_mode='binary'\n",
    ")\n"
   ]
  },
  {
   "cell_type": "code",
   "execution_count": null,
   "metadata": {},
   "outputs": [],
   "source": [
    "history = model.fit(\n",
    "        train_generator,\n",
    "        epochs=epochs,\n",
    "        validation_data=validation_generator,\n",
    "        callbacks=callbacks\n",
    "    )"
   ]
  },
  {
   "cell_type": "code",
   "execution_count": null,
   "metadata": {},
   "outputs": [],
   "source": [
    "test_datagen = ImageDataGenerator(rescale = 1/255)\n",
    "\n",
    "test_generator = test_datagen.flow_from_directory(\n",
    "    '/var/data/Downloads/archive/chest_xray/chest_xray/test/',\n",
    "    target_size=input_shape[:2],\n",
    "    batch_size = 156, \n",
    "    class_mode = 'binary'\n",
    ")\n",
    "\n",
    "\n",
    "eval_result = model.evaluate(test_generator)"
   ]
  },
  {
   "cell_type": "code",
   "execution_count": null,
   "metadata": {},
   "outputs": [],
   "source": [
    "print(f'test loss: {eval_result[0]}')\n",
    "print(f'test accuracy: {eval_result[1]}')"
   ]
  },
  {
   "cell_type": "code",
   "execution_count": null,
   "metadata": {},
   "outputs": [],
   "source": [
    "model.save(MODEL_OUTPUT_PATH)"
   ]
  }
 ],
 "metadata": {
  "kernelspec": {
   "display_name": "Python 3",
   "language": "python",
   "name": "python3"
  },
  "language_info": {
   "codemirror_mode": {
    "name": "ipython",
    "version": 3
   },
   "file_extension": ".py",
   "mimetype": "text/x-python",
   "name": "python",
   "nbconvert_exporter": "python",
   "pygments_lexer": "ipython3",
   "version": "3.7.5"
  }
 },
 "nbformat": 4,
 "nbformat_minor": 4
}
