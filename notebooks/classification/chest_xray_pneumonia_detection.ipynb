{
 "cells": [
  {
   "cell_type": "code",
   "execution_count": 3,
   "metadata": {},
   "outputs": [
    {
     "name": "stdout",
     "output_type": "stream",
     "text": [
      "/home/artur/PycharmProjects/conv-net-sandbox\n"
     ]
    }
   ],
   "source": [
    "%pwd\n",
    "%cd ../.."
   ]
  },
  {
   "cell_type": "code",
   "execution_count": 4,
   "metadata": {},
   "outputs": [],
   "source": [
    "import argparse\n",
    "import sys\n",
    "from datetime import datetime\n",
    "from pathlib import Path\n",
    "\n",
    "import numpy as np\n",
    "import tensorflow as tf\n",
    "import tensorflow.keras.backend as K\n",
    "from dotenv import load_dotenv, find_dotenv\n",
    "from tensorflow.keras.callbacks import TensorBoard, ModelCheckpoint, ReduceLROnPlateau, EarlyStopping, TerminateOnNaN\n",
    "from tensorflow.keras.optimizers import Adam\n",
    "from tensorflow.python.keras.preprocessing.image import ImageDataGenerator\n",
    "\n",
    "from models import build_simple_conv_net"
   ]
  },
  {
   "cell_type": "code",
   "execution_count": 5,
   "metadata": {},
   "outputs": [],
   "source": [
    "BASE_DIR = Path().resolve()\n",
    "LOGS_DIR = BASE_DIR.joinpath('logs', f'{datetime.now().strftime(\"%m-%d-%Y_%H:%M:%S\")}')\n",
    "\n",
    "WEIGHTS_OUTPUT_PATH = LOGS_DIR.joinpath('ep{epoch:03d}-loss{loss:.4f}-val_loss{val_loss:.4f}.h5')\n",
    "MODEL_OUTPUT_PATH = LOGS_DIR.joinpath('trained_model.h5')\n",
    "DEFAULT_MODEL_INPUT_SIZE = '300x300'\n",
    "\n",
    "ENV_FILE = find_dotenv()\n",
    "if ENV_FILE:\n",
    "    load_dotenv(ENV_FILE)"
   ]
  },
  {
   "cell_type": "code",
   "execution_count": 7,
   "metadata": {},
   "outputs": [],
   "source": [
    "input_shape = np.asarray([400, 400, 3])\n",
    "checkpoint = ModelCheckpoint(str(WEIGHTS_OUTPUT_PATH),\n",
    "                             monitor='val_loss',\n",
    "                             verbose=1,\n",
    "                             save_weights_only=True,\n",
    "                             save_best_only=True)\n",
    "logging = TensorBoard(log_dir=str(LOGS_DIR))\n",
    "early_stopping = EarlyStopping(monitor='val_loss', min_delta=0, patience=300, verbose=1)\n",
    "terminate_on_nan = TerminateOnNaN()\n",
    "callbacks = [logging, checkpoint, early_stopping, terminate_on_nan]\n",
    "\n",
    "optimizer = Adam()\n",
    "model = build_simple_conv_net(input_shape)\n",
    "model.compile(loss='binary_crossentropy', optimizer=optimizer, metrics=['accuracy'])\n",
    "epochs = 30"
   ]
  },
  {
   "cell_type": "code",
   "execution_count": 9,
   "metadata": {},
   "outputs": [
    {
     "name": "stdout",
     "output_type": "stream",
     "text": [
      "Found 5216 images belonging to 2 classes.\n",
      "Found 16 images belonging to 2 classes.\n"
     ]
    }
   ],
   "source": [
    "train_datagen = ImageDataGenerator(rescale=1 / 255)\n",
    "test_datagen = ImageDataGenerator(rescale=1 / 255)\n",
    "\n",
    "train_generator = train_datagen.flow_from_directory(\n",
    "    '/var/data/Downloads/archive/chest_xray/chest_xray/train/',\n",
    "    target_size=input_shape[:2],\n",
    "    batch_size=16,\n",
    "    class_mode='binary'\n",
    ")\n",
    "\n",
    "validation_generator = test_datagen.flow_from_directory(\n",
    "    '/var/data/Downloads/archive/chest_xray/chest_xray/val/',\n",
    "    target_size=input_shape[:2],\n",
    "    batch_size=16,\n",
    "    class_mode='binary'\n",
    ")\n"
   ]
  },
  {
   "cell_type": "code",
   "execution_count": 10,
   "metadata": {},
   "outputs": [
    {
     "name": "stdout",
     "output_type": "stream",
     "text": [
      "Epoch 1/30\n",
      "  1/326 [..............................] - ETA: 0s - loss: 0.7189 - accuracy: 0.3125WARNING:tensorflow:From /home/artur/PycharmProjects/conv-net-sandbox/venv/lib/python3.7/site-packages/tensorflow/python/ops/summary_ops_v2.py:1277: stop (from tensorflow.python.eager.profiler) is deprecated and will be removed after 2020-07-01.\n",
      "Instructions for updating:\n",
      "use `tf.profiler.experimental.stop` instead.\n",
      "  2/326 [..............................] - ETA: 17s - loss: 0.6159 - accuracy: 0.5625WARNING:tensorflow:Callbacks method `on_train_batch_end` is slow compared to the batch time (batch time: 0.0331s vs `on_train_batch_end` time: 0.0749s). Check your callbacks.\n",
      "326/326 [==============================] - ETA: 0s - loss: 0.2129 - accuracy: 0.9103\n",
      "Epoch 00001: val_loss improved from inf to 0.38139, saving model to /home/artur/PycharmProjects/conv-net-sandbox/logs/11-14-2020_09:37:40/ep001-loss0.2129-val_loss0.3814.h5\n",
      "326/326 [==============================] - 157s 481ms/step - loss: 0.2129 - accuracy: 0.9103 - val_loss: 0.3814 - val_accuracy: 0.7500\n",
      "Epoch 2/30\n",
      "326/326 [==============================] - ETA: 0s - loss: 0.1108 - accuracy: 0.9613\n",
      "Epoch 00002: val_loss improved from 0.38139 to 0.34817, saving model to /home/artur/PycharmProjects/conv-net-sandbox/logs/11-14-2020_09:37:40/ep002-loss0.1108-val_loss0.3482.h5\n",
      "326/326 [==============================] - 51s 156ms/step - loss: 0.1108 - accuracy: 0.9613 - val_loss: 0.3482 - val_accuracy: 0.8125\n",
      "Epoch 3/30\n",
      "326/326 [==============================] - ETA: 0s - loss: 0.0837 - accuracy: 0.9722\n",
      "Epoch 00003: val_loss did not improve from 0.34817\n",
      "326/326 [==============================] - 55s 170ms/step - loss: 0.0837 - accuracy: 0.9722 - val_loss: 0.7184 - val_accuracy: 0.6250\n",
      "Epoch 4/30\n",
      "326/326 [==============================] - ETA: 0s - loss: 0.0837 - accuracy: 0.9684\n",
      "Epoch 00004: val_loss improved from 0.34817 to 0.07653, saving model to /home/artur/PycharmProjects/conv-net-sandbox/logs/11-14-2020_09:37:40/ep004-loss0.0837-val_loss0.0765.h5\n",
      "326/326 [==============================] - 58s 179ms/step - loss: 0.0837 - accuracy: 0.9684 - val_loss: 0.0765 - val_accuracy: 1.0000\n",
      "Epoch 5/30\n",
      "326/326 [==============================] - ETA: 0s - loss: 0.0624 - accuracy: 0.9778\n",
      "Epoch 00005: val_loss did not improve from 0.07653\n",
      "326/326 [==============================] - 82s 250ms/step - loss: 0.0624 - accuracy: 0.9778 - val_loss: 0.1054 - val_accuracy: 0.9375\n",
      "Epoch 6/30\n",
      "326/326 [==============================] - ETA: 0s - loss: 0.0534 - accuracy: 0.9816\n",
      "Epoch 00006: val_loss did not improve from 0.07653\n",
      "326/326 [==============================] - 84s 256ms/step - loss: 0.0534 - accuracy: 0.9816 - val_loss: 0.1826 - val_accuracy: 0.9375\n",
      "Epoch 7/30\n",
      "326/326 [==============================] - ETA: 0s - loss: 0.0445 - accuracy: 0.9833\n",
      "Epoch 00007: val_loss did not improve from 0.07653\n",
      "326/326 [==============================] - 73s 224ms/step - loss: 0.0445 - accuracy: 0.9833 - val_loss: 0.3395 - val_accuracy: 0.8750\n",
      "Epoch 8/30\n",
      "326/326 [==============================] - ETA: 0s - loss: 0.0472 - accuracy: 0.9835\n",
      "Epoch 00008: val_loss improved from 0.07653 to 0.02372, saving model to /home/artur/PycharmProjects/conv-net-sandbox/logs/11-14-2020_09:37:40/ep008-loss0.0472-val_loss0.0237.h5\n",
      "326/326 [==============================] - 77s 237ms/step - loss: 0.0472 - accuracy: 0.9835 - val_loss: 0.0237 - val_accuracy: 1.0000\n",
      "Epoch 9/30\n",
      "326/326 [==============================] - ETA: 0s - loss: 0.0386 - accuracy: 0.9858\n",
      "Epoch 00009: val_loss did not improve from 0.02372\n",
      "326/326 [==============================] - 89s 273ms/step - loss: 0.0386 - accuracy: 0.9858 - val_loss: 0.3226 - val_accuracy: 0.8750\n",
      "Epoch 10/30\n",
      "326/326 [==============================] - ETA: 0s - loss: 0.0214 - accuracy: 0.9919\n",
      "Epoch 00010: val_loss did not improve from 0.02372\n",
      "326/326 [==============================] - 100s 306ms/step - loss: 0.0214 - accuracy: 0.9919 - val_loss: 0.0348 - val_accuracy: 1.0000\n",
      "Epoch 11/30\n",
      "326/326 [==============================] - ETA: 0s - loss: 0.0337 - accuracy: 0.9889\n",
      "Epoch 00011: val_loss did not improve from 0.02372\n",
      "326/326 [==============================] - 99s 303ms/step - loss: 0.0337 - accuracy: 0.9889 - val_loss: 0.3296 - val_accuracy: 0.8750\n",
      "Epoch 12/30\n",
      "326/326 [==============================] - ETA: 0s - loss: 0.0462 - accuracy: 0.9856\n",
      "Epoch 00012: val_loss did not improve from 0.02372\n",
      "326/326 [==============================] - 97s 298ms/step - loss: 0.0462 - accuracy: 0.9856 - val_loss: 0.0519 - val_accuracy: 1.0000\n",
      "Epoch 13/30\n",
      "326/326 [==============================] - ETA: 0s - loss: 0.0210 - accuracy: 0.9929\n",
      "Epoch 00013: val_loss did not improve from 0.02372\n",
      "326/326 [==============================] - 95s 291ms/step - loss: 0.0210 - accuracy: 0.9929 - val_loss: 0.1816 - val_accuracy: 0.8750\n",
      "Epoch 14/30\n",
      "326/326 [==============================] - ETA: 0s - loss: 0.0154 - accuracy: 0.9944\n",
      "Epoch 00014: val_loss did not improve from 0.02372\n",
      "326/326 [==============================] - 93s 286ms/step - loss: 0.0154 - accuracy: 0.9944 - val_loss: 0.1690 - val_accuracy: 0.9375\n",
      "Epoch 15/30\n",
      "326/326 [==============================] - ETA: 0s - loss: 0.0152 - accuracy: 0.9954\n",
      "Epoch 00015: val_loss did not improve from 0.02372\n",
      "326/326 [==============================] - 91s 280ms/step - loss: 0.0152 - accuracy: 0.9954 - val_loss: 0.0519 - val_accuracy: 1.0000\n",
      "Epoch 16/30\n",
      "326/326 [==============================] - ETA: 0s - loss: 0.0137 - accuracy: 0.9952\n",
      "Epoch 00016: val_loss did not improve from 0.02372\n",
      "326/326 [==============================] - 100s 306ms/step - loss: 0.0137 - accuracy: 0.9952 - val_loss: 0.1115 - val_accuracy: 0.9375\n",
      "Epoch 17/30\n",
      "326/326 [==============================] - ETA: 0s - loss: 0.0201 - accuracy: 0.9937\n",
      "Epoch 00017: val_loss improved from 0.02372 to 0.00981, saving model to /home/artur/PycharmProjects/conv-net-sandbox/logs/11-14-2020_09:37:40/ep017-loss0.0201-val_loss0.0098.h5\n",
      "326/326 [==============================] - 98s 300ms/step - loss: 0.0201 - accuracy: 0.9937 - val_loss: 0.0098 - val_accuracy: 1.0000\n",
      "Epoch 18/30\n",
      "326/326 [==============================] - ETA: 0s - loss: 0.0016 - accuracy: 0.9998\n",
      "Epoch 00018: val_loss did not improve from 0.00981\n",
      "326/326 [==============================] - 95s 291ms/step - loss: 0.0016 - accuracy: 0.9998 - val_loss: 0.1113 - val_accuracy: 0.9375\n",
      "Epoch 19/30\n",
      "326/326 [==============================] - ETA: 0s - loss: 7.0070e-05 - accuracy: 1.0000\n",
      "Epoch 00019: val_loss did not improve from 0.00981\n",
      "326/326 [==============================] - 93s 286ms/step - loss: 7.0070e-05 - accuracy: 1.0000 - val_loss: 0.2105 - val_accuracy: 0.9375\n",
      "Epoch 20/30\n",
      "326/326 [==============================] - ETA: 0s - loss: 2.7094e-05 - accuracy: 1.0000\n",
      "Epoch 00020: val_loss did not improve from 0.00981\n",
      "326/326 [==============================] - 98s 301ms/step - loss: 2.7094e-05 - accuracy: 1.0000 - val_loss: 0.2094 - val_accuracy: 0.9375\n",
      "Epoch 21/30\n",
      "326/326 [==============================] - ETA: 0s - loss: 1.8178e-05 - accuracy: 1.0000\n",
      "Epoch 00021: val_loss did not improve from 0.00981\n",
      "326/326 [==============================] - 95s 291ms/step - loss: 1.8178e-05 - accuracy: 1.0000 - val_loss: 0.2493 - val_accuracy: 0.9375\n",
      "Epoch 22/30\n",
      "326/326 [==============================] - ETA: 0s - loss: 1.3101e-05 - accuracy: 1.0000\n",
      "Epoch 00022: val_loss did not improve from 0.00981\n",
      "326/326 [==============================] - 78s 239ms/step - loss: 1.3101e-05 - accuracy: 1.0000 - val_loss: 0.2736 - val_accuracy: 0.8750\n",
      "Epoch 23/30\n",
      "326/326 [==============================] - ETA: 0s - loss: 9.8144e-06 - accuracy: 1.0000\n",
      "Epoch 00023: val_loss did not improve from 0.00981\n",
      "326/326 [==============================] - 95s 291ms/step - loss: 9.8144e-06 - accuracy: 1.0000 - val_loss: 0.2741 - val_accuracy: 0.9375\n",
      "Epoch 24/30\n",
      "326/326 [==============================] - ETA: 0s - loss: 7.5995e-06 - accuracy: 1.0000\n",
      "Epoch 00024: val_loss did not improve from 0.00981\n",
      "326/326 [==============================] - 103s 316ms/step - loss: 7.5995e-06 - accuracy: 1.0000 - val_loss: 0.2847 - val_accuracy: 0.9375\n",
      "Epoch 25/30\n",
      "326/326 [==============================] - ETA: 0s - loss: 5.9434e-06 - accuracy: 1.0000\n",
      "Epoch 00025: val_loss did not improve from 0.00981\n",
      "326/326 [==============================] - 98s 300ms/step - loss: 5.9434e-06 - accuracy: 1.0000 - val_loss: 0.2913 - val_accuracy: 0.9375\n",
      "Epoch 26/30\n",
      "326/326 [==============================] - ETA: 0s - loss: 4.6932e-06 - accuracy: 1.0000\n",
      "Epoch 00026: val_loss did not improve from 0.00981\n",
      "326/326 [==============================] - 96s 294ms/step - loss: 4.6932e-06 - accuracy: 1.0000 - val_loss: 0.3022 - val_accuracy: 0.9375\n",
      "Epoch 27/30\n",
      "326/326 [==============================] - ETA: 0s - loss: 3.7392e-06 - accuracy: 1.0000\n",
      "Epoch 00027: val_loss did not improve from 0.00981\n",
      "326/326 [==============================] - 96s 295ms/step - loss: 3.7392e-06 - accuracy: 1.0000 - val_loss: 0.3254 - val_accuracy: 0.9375\n",
      "Epoch 28/30\n",
      "326/326 [==============================] - ETA: 0s - loss: 3.0170e-06 - accuracy: 1.0000\n",
      "Epoch 00028: val_loss did not improve from 0.00981\n",
      "326/326 [==============================] - 85s 259ms/step - loss: 3.0170e-06 - accuracy: 1.0000 - val_loss: 0.3206 - val_accuracy: 0.9375\n",
      "Epoch 29/30\n",
      "326/326 [==============================] - ETA: 0s - loss: 2.4278e-06 - accuracy: 1.0000\n",
      "Epoch 00029: val_loss did not improve from 0.00981\n",
      "326/326 [==============================] - 66s 204ms/step - loss: 2.4278e-06 - accuracy: 1.0000 - val_loss: 0.3327 - val_accuracy: 0.9375\n",
      "Epoch 30/30\n",
      "326/326 [==============================] - ETA: 0s - loss: 1.9574e-06 - accuracy: 1.0000\n",
      "Epoch 00030: val_loss did not improve from 0.00981\n",
      "326/326 [==============================] - 76s 234ms/step - loss: 1.9574e-06 - accuracy: 1.0000 - val_loss: 0.3371 - val_accuracy: 0.9375\n"
     ]
    }
   ],
   "source": [
    "history = model.fit(\n",
    "        train_generator,\n",
    "        epochs=epochs,\n",
    "        validation_data=validation_generator,\n",
    "        callbacks=callbacks\n",
    "    )"
   ]
  },
  {
   "cell_type": "code",
   "execution_count": null,
   "metadata": {},
   "outputs": [],
   "source": []
  },
  {
   "cell_type": "code",
   "execution_count": null,
   "metadata": {},
   "outputs": [],
   "source": [
    "model.save(MODEL_OUTPUT_PATH)"
   ]
  },
  {
   "cell_type": "code",
   "execution_count": null,
   "metadata": {},
   "outputs": [],
   "source": []
  },
  {
   "cell_type": "code",
   "execution_count": null,
   "metadata": {},
   "outputs": [],
   "source": []
  },
  {
   "cell_type": "code",
   "execution_count": null,
   "metadata": {},
   "outputs": [],
   "source": []
  },
  {
   "cell_type": "code",
   "execution_count": null,
   "metadata": {},
   "outputs": [],
   "source": []
  },
  {
   "cell_type": "code",
   "execution_count": null,
   "metadata": {},
   "outputs": [],
   "source": []
  }
 ],
 "metadata": {
  "kernelspec": {
   "display_name": "Python 3",
   "language": "python",
   "name": "python3"
  },
  "language_info": {
   "codemirror_mode": {
    "name": "ipython",
    "version": 3
   },
   "file_extension": ".py",
   "mimetype": "text/x-python",
   "name": "python",
   "nbconvert_exporter": "python",
   "pygments_lexer": "ipython3",
   "version": "3.7.5"
  }
 },
 "nbformat": 4,
 "nbformat_minor": 4
}
